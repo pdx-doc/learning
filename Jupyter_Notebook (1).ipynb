{
  "metadata": {
    "kernelspec": {
      "name": "python",
      "display_name": "Pyolite",
      "language": "python"
    },
    "language_info": {
      "codemirror_mode": {
        "name": "python",
        "version": 3
      },
      "file_extension": ".py",
      "mimetype": "text/x-python",
      "name": "python",
      "nbconvert_exporter": "python",
      "pygments_lexer": "ipython3",
      "version": "3.8"
    }
  },
  "nbformat_minor": 4,
  "nbformat": 4,
  "cells": [
    {
      "cell_type": "markdown",
      "source": "<center>\n    <img src=\"https://cf-courses-data.s3.us.cloud-object-storage.appdomain.cloud/IBMDeveloperSkillsNetwork-DS0105EN-SkillsNetwork/labs/Module2/images/SN_web_lightmode.png\" width=\"300\" alt=\"cognitiveclass.ai logo\">\n</center>\n",
      "metadata": {}
    },
    {
      "cell_type": "markdown",
      "source": "#### Add your code below following the instructions given in the course\n",
      "metadata": {}
    },
    {
      "cell_type": "markdown",
      "source": "# Exercise 2: My Jupyter Notebook ",
      "metadata": {}
    },
    {
      "cell_type": "markdown",
      "source": "## Exercise 3: Peer graded excercise for Coursera",
      "metadata": {}
    },
    {
      "cell_type": "markdown",
      "source": "**Exercise 4: Data Science Languages** \n<br> Python \n<br> R\n<br> SQL \n<br> Julia\n<br> JavaScript ",
      "metadata": {}
    },
    {
      "cell_type": "markdown",
      "source": "**Exercise 5: Data Science Libraries** \n<br> TensorFlow \n<br> NumPy\n<br> SciPy\n<br> Pandas\n<br> PyTorch",
      "metadata": {}
    },
    {
      "cell_type": "markdown",
      "source": "**Exercise 6: Data Science Tools**\nLanguages |Libraries \n-----|-----\nPython|TensorFlow\nR|NumPy\nSQL|SciPy\nJulia|Pandas",
      "metadata": {}
    },
    {
      "cell_type": "markdown",
      "source": "Exercise 7 and 8: The code below multiplies and adds numbers",
      "metadata": {}
    },
    {
      "cell_type": "code",
      "source": "(69*96)+12",
      "metadata": {
        "trusted": true
      },
      "execution_count": 3,
      "outputs": [
        {
          "execution_count": 3,
          "output_type": "execute_result",
          "data": {
            "text/plain": "6636"
          },
          "metadata": {}
        }
      ]
    },
    {
      "cell_type": "markdown",
      "source": "Exercise 9: Converts minutes to hours",
      "metadata": {}
    },
    {
      "cell_type": "code",
      "source": "def convert(seconds):\n    seconds = seconds % (24 * 3600)\n    hour = seconds // 3600\n    seconds %= 3600\n    minutes = seconds // 60\n    seconds %= 60\n     \n    return \"%d:%02d:%02d\" % (hour, minutes, seconds)\n     \n# Driver program\nn = 12345\nprint(convert(n))",
      "metadata": {
        "trusted": true
      },
      "execution_count": 10,
      "outputs": [
        {
          "name": "stdout",
          "text": "3:25:45\n",
          "output_type": "stream"
        }
      ]
    },
    {
      "cell_type": "markdown",
      "source": "Exercise 10: Objectives are to make money and life the high life.",
      "metadata": {}
    },
    {
      "cell_type": "markdown",
      "source": "Exercise 11: Author is Johnny Bravo",
      "metadata": {}
    },
    {
      "cell_type": "code",
      "source": "",
      "metadata": {},
      "execution_count": null,
      "outputs": []
    }
  ]
}